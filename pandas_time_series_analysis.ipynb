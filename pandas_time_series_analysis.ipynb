{
 "metadata": {
  "name": ""
 },
 "nbformat": 3,
 "nbformat_minor": 0,
 "worksheets": [
  {
   "cells": [
    {
     "cell_type": "heading",
     "level": 1,
     "metadata": {},
     "source": [
      "Analysing time-series data with Python and Pandas"
     ]
    },
    {
     "cell_type": "raw",
     "metadata": {},
     "source": [
      "In this IPython Notebook we will use Pandas to analyse Apple (AAPL), Google(GOOGL) , and Microsoft(MSFT) stock prices.\n",
      "First, the necessary libraries need to be imported"
     ]
    },
    {
     "cell_type": "code",
     "collapsed": false,
     "input": [
      "import datetime\n",
      "import pandas as pd\n",
      "import matplotlib.pyplot as plt\n",
      "import matplotlib as mpl\n",
      "mpl.rc('figure', figsize=(8, 7))\n",
      "import pandas.io.data\n",
      "from IPython.display import Image"
     ],
     "language": "python",
     "metadata": {},
     "outputs": [],
     "prompt_number": 1
    },
    {
     "cell_type": "raw",
     "metadata": {},
     "source": [
      "Now, we will set a date range for the stock prices, and that range will be analysed."
     ]
    },
    {
     "cell_type": "code",
     "collapsed": false,
     "input": [
      "start = datetime.datetime(2008,1,1)\n",
      "end = datetime.datetime(2014,1,1)"
     ],
     "language": "python",
     "metadata": {},
     "outputs": [],
     "prompt_number": 2
    },
    {
     "cell_type": "raw",
     "metadata": {},
     "source": [
      "Next, we obtain the stock price data for each respective company."
     ]
    },
    {
     "cell_type": "code",
     "collapsed": false,
     "input": [
      "#Apple stock data\n",
      "aapl = pd.io.data.get_data_yahoo('AAPL', start=start, end=end)\n",
      "\n",
      "#Google stock data\n",
      "googl = pd.io.data.get_data_yahoo('GOOGL', start=start, end=end)\n",
      "\n",
      "#Microsft stock data\n",
      "msft = pd.io.data.get_data_yahoo('MSFT', start=start, end=end)"
     ],
     "language": "python",
     "metadata": {},
     "outputs": [],
     "prompt_number": 3
    },
    {
     "cell_type": "raw",
     "metadata": {},
     "source": [
      "To look at the first few rows for each data set, I'll use the head() method."
     ]
    },
    {
     "cell_type": "code",
     "collapsed": false,
     "input": [
      "aapl.head()"
     ],
     "language": "python",
     "metadata": {},
     "outputs": [
      {
       "html": [
        "<div style=\"max-height:1000px;max-width:1500px;overflow:auto;\">\n",
        "<table border=\"1\" class=\"dataframe\">\n",
        "  <thead>\n",
        "    <tr style=\"text-align: right;\">\n",
        "      <th></th>\n",
        "      <th>Open</th>\n",
        "      <th>High</th>\n",
        "      <th>Low</th>\n",
        "      <th>Close</th>\n",
        "      <th>Volume</th>\n",
        "      <th>Adj Close</th>\n",
        "    </tr>\n",
        "    <tr>\n",
        "      <th>Date</th>\n",
        "      <th></th>\n",
        "      <th></th>\n",
        "      <th></th>\n",
        "      <th></th>\n",
        "      <th></th>\n",
        "      <th></th>\n",
        "    </tr>\n",
        "  </thead>\n",
        "  <tbody>\n",
        "    <tr>\n",
        "      <th>2008-01-02</th>\n",
        "      <td> 199.27</td>\n",
        "      <td> 200.26</td>\n",
        "      <td> 192.55</td>\n",
        "      <td> 194.84</td>\n",
        "      <td> 38542100</td>\n",
        "      <td> 186.23</td>\n",
        "    </tr>\n",
        "    <tr>\n",
        "      <th>2008-01-03</th>\n",
        "      <td> 195.41</td>\n",
        "      <td> 197.39</td>\n",
        "      <td> 192.69</td>\n",
        "      <td> 194.93</td>\n",
        "      <td> 30073800</td>\n",
        "      <td> 186.32</td>\n",
        "    </tr>\n",
        "    <tr>\n",
        "      <th>2008-01-04</th>\n",
        "      <td> 191.45</td>\n",
        "      <td> 193.00</td>\n",
        "      <td> 178.89</td>\n",
        "      <td> 180.05</td>\n",
        "      <td> 51994000</td>\n",
        "      <td> 172.09</td>\n",
        "    </tr>\n",
        "    <tr>\n",
        "      <th>2008-01-07</th>\n",
        "      <td> 181.25</td>\n",
        "      <td> 183.60</td>\n",
        "      <td> 170.23</td>\n",
        "      <td> 177.64</td>\n",
        "      <td> 74006900</td>\n",
        "      <td> 169.79</td>\n",
        "    </tr>\n",
        "    <tr>\n",
        "      <th>2008-01-08</th>\n",
        "      <td> 180.14</td>\n",
        "      <td> 182.46</td>\n",
        "      <td> 170.80</td>\n",
        "      <td> 171.25</td>\n",
        "      <td> 54422000</td>\n",
        "      <td> 163.68</td>\n",
        "    </tr>\n",
        "  </tbody>\n",
        "</table>\n",
        "<p>5 rows \u00d7 6 columns</p>\n",
        "</div>"
       ],
       "metadata": {},
       "output_type": "pyout",
       "prompt_number": 4,
       "text": [
        "              Open    High     Low   Close    Volume  Adj Close\n",
        "Date                                                           \n",
        "2008-01-02  199.27  200.26  192.55  194.84  38542100     186.23\n",
        "2008-01-03  195.41  197.39  192.69  194.93  30073800     186.32\n",
        "2008-01-04  191.45  193.00  178.89  180.05  51994000     172.09\n",
        "2008-01-07  181.25  183.60  170.23  177.64  74006900     169.79\n",
        "2008-01-08  180.14  182.46  170.80  171.25  54422000     163.68\n",
        "\n",
        "[5 rows x 6 columns]"
       ]
      }
     ],
     "prompt_number": 4
    },
    {
     "cell_type": "code",
     "collapsed": false,
     "input": [
      "msft.head()"
     ],
     "language": "python",
     "metadata": {},
     "outputs": [
      {
       "html": [
        "<div style=\"max-height:1000px;max-width:1500px;overflow:auto;\">\n",
        "<table border=\"1\" class=\"dataframe\">\n",
        "  <thead>\n",
        "    <tr style=\"text-align: right;\">\n",
        "      <th></th>\n",
        "      <th>Open</th>\n",
        "      <th>High</th>\n",
        "      <th>Low</th>\n",
        "      <th>Close</th>\n",
        "      <th>Volume</th>\n",
        "      <th>Adj Close</th>\n",
        "    </tr>\n",
        "    <tr>\n",
        "      <th>Date</th>\n",
        "      <th></th>\n",
        "      <th></th>\n",
        "      <th></th>\n",
        "      <th></th>\n",
        "      <th></th>\n",
        "      <th></th>\n",
        "    </tr>\n",
        "  </thead>\n",
        "  <tbody>\n",
        "    <tr>\n",
        "      <th>2008-01-02</th>\n",
        "      <td> 35.79</td>\n",
        "      <td> 35.96</td>\n",
        "      <td> 35.00</td>\n",
        "      <td> 35.22</td>\n",
        "      <td> 63004200</td>\n",
        "      <td> 30.00</td>\n",
        "    </tr>\n",
        "    <tr>\n",
        "      <th>2008-01-03</th>\n",
        "      <td> 35.22</td>\n",
        "      <td> 35.65</td>\n",
        "      <td> 34.86</td>\n",
        "      <td> 35.37</td>\n",
        "      <td> 49599600</td>\n",
        "      <td> 30.13</td>\n",
        "    </tr>\n",
        "    <tr>\n",
        "      <th>2008-01-04</th>\n",
        "      <td> 35.19</td>\n",
        "      <td> 35.20</td>\n",
        "      <td> 34.09</td>\n",
        "      <td> 34.38</td>\n",
        "      <td> 72090800</td>\n",
        "      <td> 29.28</td>\n",
        "    </tr>\n",
        "    <tr>\n",
        "      <th>2008-01-07</th>\n",
        "      <td> 34.55</td>\n",
        "      <td> 34.80</td>\n",
        "      <td> 34.25</td>\n",
        "      <td> 34.61</td>\n",
        "      <td> 80164300</td>\n",
        "      <td> 29.48</td>\n",
        "    </tr>\n",
        "    <tr>\n",
        "      <th>2008-01-08</th>\n",
        "      <td> 34.71</td>\n",
        "      <td> 34.71</td>\n",
        "      <td> 33.40</td>\n",
        "      <td> 33.45</td>\n",
        "      <td> 79148300</td>\n",
        "      <td> 28.49</td>\n",
        "    </tr>\n",
        "  </tbody>\n",
        "</table>\n",
        "<p>5 rows \u00d7 6 columns</p>\n",
        "</div>"
       ],
       "metadata": {},
       "output_type": "pyout",
       "prompt_number": 5,
       "text": [
        "             Open   High    Low  Close    Volume  Adj Close\n",
        "Date                                                       \n",
        "2008-01-02  35.79  35.96  35.00  35.22  63004200      30.00\n",
        "2008-01-03  35.22  35.65  34.86  35.37  49599600      30.13\n",
        "2008-01-04  35.19  35.20  34.09  34.38  72090800      29.28\n",
        "2008-01-07  34.55  34.80  34.25  34.61  80164300      29.48\n",
        "2008-01-08  34.71  34.71  33.40  33.45  79148300      28.49\n",
        "\n",
        "[5 rows x 6 columns]"
       ]
      }
     ],
     "prompt_number": 5
    },
    {
     "cell_type": "code",
     "collapsed": false,
     "input": [
      "googl.head()"
     ],
     "language": "python",
     "metadata": {},
     "outputs": [
      {
       "html": [
        "<div style=\"max-height:1000px;max-width:1500px;overflow:auto;\">\n",
        "<table border=\"1\" class=\"dataframe\">\n",
        "  <thead>\n",
        "    <tr style=\"text-align: right;\">\n",
        "      <th></th>\n",
        "      <th>Open</th>\n",
        "      <th>High</th>\n",
        "      <th>Low</th>\n",
        "      <th>Close</th>\n",
        "      <th>Volume</th>\n",
        "      <th>Adj Close</th>\n",
        "    </tr>\n",
        "    <tr>\n",
        "      <th>Date</th>\n",
        "      <th></th>\n",
        "      <th></th>\n",
        "      <th></th>\n",
        "      <th></th>\n",
        "      <th></th>\n",
        "      <th></th>\n",
        "    </tr>\n",
        "  </thead>\n",
        "  <tbody>\n",
        "    <tr>\n",
        "      <th>2008-01-02</th>\n",
        "      <td> 692.87</td>\n",
        "      <td> 697.37</td>\n",
        "      <td> 677.73</td>\n",
        "      <td> 685.19</td>\n",
        "      <td>  8605100</td>\n",
        "      <td> 342.94</td>\n",
        "    </tr>\n",
        "    <tr>\n",
        "      <th>2008-01-03</th>\n",
        "      <td> 685.26</td>\n",
        "      <td> 686.85</td>\n",
        "      <td> 676.52</td>\n",
        "      <td> 685.33</td>\n",
        "      <td>  6498400</td>\n",
        "      <td> 343.01</td>\n",
        "    </tr>\n",
        "    <tr>\n",
        "      <th>2008-01-04</th>\n",
        "      <td> 679.69</td>\n",
        "      <td> 680.96</td>\n",
        "      <td> 655.00</td>\n",
        "      <td> 657.00</td>\n",
        "      <td> 10708800</td>\n",
        "      <td> 328.83</td>\n",
        "    </tr>\n",
        "    <tr>\n",
        "      <th>2008-01-07</th>\n",
        "      <td> 653.94</td>\n",
        "      <td> 662.28</td>\n",
        "      <td> 637.35</td>\n",
        "      <td> 649.25</td>\n",
        "      <td> 12793900</td>\n",
        "      <td> 324.95</td>\n",
        "    </tr>\n",
        "    <tr>\n",
        "      <th>2008-01-08</th>\n",
        "      <td> 653.00</td>\n",
        "      <td> 659.96</td>\n",
        "      <td> 631.00</td>\n",
        "      <td> 631.68</td>\n",
        "      <td> 10667500</td>\n",
        "      <td> 316.16</td>\n",
        "    </tr>\n",
        "  </tbody>\n",
        "</table>\n",
        "<p>5 rows \u00d7 6 columns</p>\n",
        "</div>"
       ],
       "metadata": {},
       "output_type": "pyout",
       "prompt_number": 6,
       "text": [
        "              Open    High     Low   Close    Volume  Adj Close\n",
        "Date                                                           \n",
        "2008-01-02  692.87  697.37  677.73  685.19   8605100     342.94\n",
        "2008-01-03  685.26  686.85  676.52  685.33   6498400     343.01\n",
        "2008-01-04  679.69  680.96  655.00  657.00  10708800     328.83\n",
        "2008-01-07  653.94  662.28  637.35  649.25  12793900     324.95\n",
        "2008-01-08  653.00  659.96  631.00  631.68  10667500     316.16\n",
        "\n",
        "[5 rows x 6 columns]"
       ]
      }
     ],
     "prompt_number": 6
    },
    {
     "cell_type": "raw",
     "metadata": {},
     "source": [
      "I'm interested in the closing price for each day, so I shall isolate this data for each dataset."
     ]
    },
    {
     "cell_type": "code",
     "collapsed": false,
     "input": [
      "googl_close = googl['Close']\n",
      "aapl_close = aapl['Close']\n",
      "msft_close = msft['Close']"
     ],
     "language": "python",
     "metadata": {},
     "outputs": [],
     "prompt_number": 7
    },
    {
     "cell_type": "raw",
     "metadata": {},
     "source": [
      "To differentiate between the datasets when they are plotted, I shall give each dataset a label on the graph."
     ]
    },
    {
     "cell_type": "code",
     "collapsed": false,
     "input": [
      "aapl_close.plot(label='AAPL')"
     ],
     "language": "python",
     "metadata": {},
     "outputs": [
      {
       "metadata": {},
       "output_type": "pyout",
       "prompt_number": 8,
       "text": [
        "<matplotlib.axes.AxesSubplot at 0x10752f7d0>"
       ]
      }
     ],
     "prompt_number": 8
    },
    {
     "cell_type": "code",
     "collapsed": false,
     "input": [
      "msft_close.plot(label='MSFT')"
     ],
     "language": "python",
     "metadata": {},
     "outputs": [
      {
       "metadata": {},
       "output_type": "pyout",
       "prompt_number": 9,
       "text": [
        "<matplotlib.axes.AxesSubplot at 0x10752f7d0>"
       ]
      }
     ],
     "prompt_number": 9
    },
    {
     "cell_type": "code",
     "collapsed": false,
     "input": [
      " googl_close.plot(label='GOOGL')"
     ],
     "language": "python",
     "metadata": {},
     "outputs": [
      {
       "metadata": {},
       "output_type": "pyout",
       "prompt_number": 10,
       "text": [
        "<matplotlib.axes.AxesSubplot at 0x10752f7d0>"
       ]
      }
     ],
     "prompt_number": 10
    },
    {
     "cell_type": "code",
     "collapsed": false,
     "input": [
      "plt.legend()"
     ],
     "language": "python",
     "metadata": {},
     "outputs": [
      {
       "metadata": {},
       "output_type": "pyout",
       "prompt_number": 11,
       "text": [
        "<matplotlib.legend.Legend at 0x10752ff50>"
       ]
      }
     ],
     "prompt_number": 11
    },
    {
     "cell_type": "raw",
     "metadata": {},
     "source": [
      "And this last part is to show the graphs"
     ]
    },
    {
     "cell_type": "code",
     "collapsed": false,
     "input": [
      "plt.show()"
     ],
     "language": "python",
     "metadata": {},
     "outputs": [],
     "prompt_number": 12
    },
    {
     "cell_type": "raw",
     "metadata": {},
     "source": [
      "And the below Image is the output you will get."
     ]
    },
    {
     "cell_type": "code",
     "collapsed": false,
     "input": [
      "Image('http://i.imgur.com/MgNeBqa.png')"
     ],
     "language": "python",
     "metadata": {},
     "outputs": [
      {
       "metadata": {},
       "output_type": "pyout",
       "png": "[encoded data removed]",
       "prompt_number": 13,
       "text": [
        "<IPython.core.display.Image at 0x1079ffb10>"
       ]
      }
     ],
     "prompt_number": 13
    }
   ],
   "metadata": {}
  }
 ]
}